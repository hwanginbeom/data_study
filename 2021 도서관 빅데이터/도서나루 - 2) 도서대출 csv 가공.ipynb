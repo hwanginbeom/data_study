{
 "cells": [
  {
   "cell_type": "code",
   "execution_count": 1,
   "metadata": {},
   "outputs": [],
   "source": [
    "import pandas as pd\n",
    "from tqdm import tqdm"
   ]
  },
  {
   "cell_type": "code",
   "execution_count": 2,
   "metadata": {},
   "outputs": [
    {
     "name": "stdout",
     "output_type": "stream",
     "text": [
      "477\n"
     ]
    }
   ],
   "source": [
    "import os\n",
    "# 본인 경로\n",
    "path = 'C:/Users/user/Desktop/도서나루/도서관별 대출도서/7page/'\n",
    "file_list = os.listdir(path)\n",
    "file_list_py = [file for file in file_list if file.endswith('.xlsx')]\n",
    "print(len(file_list_py))"
   ]
  },
  {
   "cell_type": "code",
   "execution_count": null,
   "metadata": {},
   "outputs": [
    {
     "name": "stderr",
     "output_type": "stream",
     "text": [
      " 86%|█████████████████████████████████████████████████████████████████▎          | 410/477 [2:26:28<1:00:09, 53.87s/it]"
     ]
    }
   ],
   "source": [
    "for i in tqdm(range(len(file_list_py))):\n",
    "    if i == 0:\n",
    "        source_data = pd.read_excel(path + file_list_py[i], usecols=[11]).sum()\n",
    "        y_data = {'xlsx_name' : [file_list_py[i]],\n",
    "                  'total_num' : [source_data['대출건수']]}\n",
    "        y_data = pd.DataFrame(y_data)\n",
    "    else:\n",
    "        source_data = pd.read_excel(path + file_list_py[i], usecols=[11]).sum()\n",
    "        data = {'xlsx_name' : [file_list_py[i]],\n",
    "                  'total_num' : [source_data['대출건수']]}\n",
    "        y_data = y_data.append(pd.DataFrame(data))"
   ]
  },
  {
   "cell_type": "code",
   "execution_count": null,
   "metadata": {},
   "outputs": [],
   "source": [
    "# 본인 경로\n",
    "y_data.to_csv('C:/Users/user/Desktop/도서나루/도서관별 대출도서/7page.csv', encoding='utf-8-sig', index=False)"
   ]
  },
  {
   "cell_type": "code",
   "execution_count": null,
   "metadata": {},
   "outputs": [],
   "source": []
  }
 ],
 "metadata": {
  "kernelspec": {
   "display_name": "Python 3",
   "language": "python",
   "name": "python3"
  },
  "language_info": {
   "codemirror_mode": {
    "name": "ipython",
    "version": 3
   },
   "file_extension": ".py",
   "mimetype": "text/x-python",
   "name": "python",
   "nbconvert_exporter": "python",
   "pygments_lexer": "ipython3",
   "version": "3.7.0"
  }
 },
 "nbformat": 4,
 "nbformat_minor": 2
}
