{
  "nbformat": 4,
  "nbformat_minor": 0,
  "metadata": {
    "colab": {
      "name": "신용카드 사용자 연체 예측 AI.ipynb",
      "private_outputs": true,
      "provenance": []
    },
    "kernelspec": {
      "name": "python3",
      "display_name": "Python 3"
    },
    "language_info": {
      "name": "python"
    }
  },
  "cells": [
    {
      "cell_type": "code",
      "metadata": {
        "id": "HKA8i8yRK_s-"
      },
      "source": [
        "# 기본\n",
        "import itertools\n",
        "import numpy as np\n",
        "import pandas as pd\n",
        "import seaborn as sns\n",
        "import matplotlib as mpl\n",
        "import matplotlib.pyplot as plt\n",
        "from sklearn.externals import joblib \n",
        "from sklearn.metrics import make_scorer\n",
        "import warnings\n",
        "warnings.filterwarnings(action='ignore')"
      ],
      "execution_count": null,
      "outputs": []
    },
    {
      "cell_type": "code",
      "metadata": {
        "id": "zWyuOmUXCWAo"
      },
      "source": [
        "!pip install catboost\n",
        "!pip install category_encoders"
      ],
      "execution_count": null,
      "outputs": []
    },
    {
      "cell_type": "code",
      "metadata": {
        "id": "G49TuuUkCaRP"
      },
      "source": [
        "from sklearn.metrics import log_loss\n",
        "from sklearn.preprocessing import StandardScaler\n",
        "from category_encoders.ordinal import OrdinalEncoder\n",
        "from sklearn.model_selection import StratifiedKFold\n",
        "\n",
        "from sklearn.cluster import KMeans\n",
        "from catboost import CatBoostClassifier, Pool"
      ],
      "execution_count": null,
      "outputs": []
    },
    {
      "cell_type": "code",
      "metadata": {
        "id": "O5qJ24pHiqzY"
      },
      "source": [
        "# 경고창 무시 -> 회사에서 업무 처리할때는 무시하면 안됨\n",
        "import warnings\n",
        "warnings.filterwarnings(action='ignore')"
      ],
      "execution_count": null,
      "outputs": []
    },
    {
      "cell_type": "code",
      "metadata": {
        "id": "sUADNPpLtABs"
      },
      "source": [
        "from google.colab import drive\n",
        "drive.mount('/content/drive')"
      ],
      "execution_count": null,
      "outputs": []
    },
    {
      "cell_type": "code",
      "metadata": {
        "id": "hr0jNH5rREKm"
      },
      "source": [
        "path = '/content/drive'"
      ],
      "execution_count": null,
      "outputs": []
    },
    {
      "cell_type": "markdown",
      "metadata": {
        "id": "VgRUjaequA1l"
      },
      "source": [
        "**1. 주제**\n",
        "- **신용카드 사용자 데이터를 보고 사용자의 대금 연체 정도를 예측**하는 알고리즘 개발\n",
        "\n",
        "**2. 배경**\n",
        "- 신용카드사는 신용카드 신청자가 제출한 개인정보와 데이터를 활용해 신용 점수를 산정\n",
        "- 신용카드사는 이 신용 점수를 활용해 신청자의 향후 채무 불이행과 신용카드 대급 연체 가능성을 예측\n",
        "\n",
        "**3. 목표**\n",
        "- 사용자의 대금 연체 정도를 예측할 수 있는 인공지능 알고리즘을 개발해 금융업계에 제안할 수 있는 인사이트를 발굴"
      ]
    },
    {
      "cell_type": "code",
      "metadata": {
        "id": "hFCVKigItK0x"
      },
      "source": [
        "# 데이터 불러오기\n",
        "df_train = pd.read_csv('/content/drive/My Drive/train.csv')\n",
        "df_test = pd.read_csv('/content/drive/My Drive/test.csv')"
      ],
      "execution_count": null,
      "outputs": []
    },
    {
      "cell_type": "code",
      "metadata": {
        "id": "uG2ZuSHktK3k"
      },
      "source": [
        "df_train.head()"
      ],
      "execution_count": null,
      "outputs": []
    },
    {
      "cell_type": "code",
      "metadata": {
        "id": "xQxOAmLOtK9c"
      },
      "source": [
        "df_train.info()"
      ],
      "execution_count": null,
      "outputs": []
    },
    {
      "cell_type": "markdown",
      "metadata": {
        "id": "Qyi6hF7r5qdt"
      },
      "source": [
        "# **1. EDA**"
      ]
    },
    {
      "cell_type": "markdown",
      "metadata": {
        "id": "0hSxEDhjzkov"
      },
      "source": [
        "## **데이터 타입 및 변수 확인**\n",
        "\n",
        "**Binary**\n",
        "\n",
        "- gender: 성별\n",
        "\n",
        "- car: 차량 소유 여부\n",
        "\n",
        "- reality: 부동산 소유 여부\n",
        "\n",
        "- FLAG_MOBIL: 핸드폰 소유 여부(가정용)\n",
        "\n",
        "- work_phone: 업무용 전화 소유 여부\n",
        "\n",
        "- phone: 전화 소유 여부\n",
        "\n",
        "- email: 이메일 소유 여부\n",
        "\n",
        "**Multi_category**\n",
        "\n",
        "- house_type: 생활 방식\n",
        "\n",
        "- occyp_type: 직업 유형\n",
        "\n",
        "- income_type: 소득 분류\n",
        "\n",
        "- family_type: 결혼 여부\n",
        "\n",
        "**discrete type**\n",
        "\n",
        "- family_size: 가족 일원 수 \n",
        "\n",
        "- child_num : 자녀 수\n",
        "\n",
        "**ordinary type**\n",
        "\n",
        "- edu_type : 교육 수준\n",
        "\n",
        "- credit : 신용 기준 → 낮을 수록 높은 시용의 신용카드 사용자(대금연체를 기준으로 한 신용도임)\n",
        "\n",
        "**continuus type**\n",
        "\n",
        "- income_total : 수익\n",
        "\n",
        "- DAYS_BIRTH : 출생일 → 데이터 수집 당시 (0)부터 역으로 셈, 즉, -1은 데이터 수집일 하루 전에 태어났음을 의미\n",
        "\n",
        "- DAYS_EMPLOYED : 업무 시작일 →  -1은 데이터 수집일 하루 전부터 일을 시작함을 의미 / 양수 값은 고용되지 않은 상태를 의미함\n",
        "\n",
        "- begin_month : 신용카드 발급 월 → -1은 데이터 수집일 한 달 전에 신용카드를 발급함 / 데이터 수집 당시 0부터 역으로 셈\n",
        "\n",
        "\n"
      ]
    },
    {
      "cell_type": "markdown",
      "metadata": {
        "id": "UCUvR9pl5nWR"
      },
      "source": [
        "## **결측치 확인**"
      ]
    },
    {
      "cell_type": "code",
      "metadata": {
        "id": "gpeve5mOwel4"
      },
      "source": [
        "df_train.isnull().sum()"
      ],
      "execution_count": null,
      "outputs": []
    },
    {
      "cell_type": "markdown",
      "metadata": {
        "id": "8GuuhbAzwOh0"
      },
      "source": [
        "train 데이터의 컬럼 정보를 살펴보았을때 occyp_type 변수만 결측치가 존재하는 것을 확인\n",
        "\n",
        "직업 유형이 결측치 -> 직업이 없는 무직자로 생각해야할지 or 전체 데이터 중 30% 비율의 결측치를 제거해야할지 고민이 필요하다.\n"
      ]
    },
    {
      "cell_type": "code",
      "metadata": {
        "id": "1Bmpot9VKP7i"
      },
      "source": [
        "df_train['credit'].value_counts()"
      ],
      "execution_count": null,
      "outputs": []
    },
    {
      "cell_type": "markdown",
      "metadata": {
        "id": "OSnS7QYkJts4"
      },
      "source": [
        "## **Credit (종속변수 - 예측값) 비율 살펴보기**"
      ]
    },
    {
      "cell_type": "code",
      "metadata": {
        "id": "Yf70bsunJkac"
      },
      "source": [
        "fig, axes = plt.subplots(1, 2, figsize=(15,6))\n",
        "df_train['credit'].value_counts().plot.pie(explode=[0,0.1,0.1],autopct='%1.1f%%',ax=axes[0], textprops={'fontsize': 14},shadow=True,colors=['lightsteelblue','cornflowerblue','royalblue'])\n",
        "axes[0].set_title('credit')\n",
        "axes[0].set_ylabel('credit')\n",
        "sns.countplot('credit',data=df_train,ax=axes[1],palette='Set2')\n",
        "axes[1].set_title('credit')\n",
        "plt.show()"
      ],
      "execution_count": null,
      "outputs": []
    },
    {
      "cell_type": "markdown",
      "metadata": {
        "id": "eXdzcd6nMj5E"
      },
      "source": [
        "2→1→0으로 갈수록 신용등급이 높음\n",
        "\n",
        "그러나 그래프를 살펴보았을때, 신용등급이 낮은 고객들의 수가 더 높은 것을 확인 할 수 있다."
      ]
    },
    {
      "cell_type": "markdown",
      "metadata": {
        "id": "hsVWojQdGikk"
      },
      "source": [
        "## **Binary**\n",
        "\n",
        "- 전반적으로 크게 드러나는 특징은 존재하지 않음"
      ]
    },
    {
      "cell_type": "code",
      "metadata": {
        "id": "ox2s0ReDzUZT"
      },
      "source": [
        "fig, axes = plt.subplots(1, 3, figsize=(15, 6))\n",
        "\n",
        "# 성별\n",
        "sns.distplot(df_train[df_train['gender']=='M']['credit'], ax=axes[0],color='blue')\n",
        "sns.distplot(df_train[df_train['gender']=='F']['credit'], ax=axes[0],color='red')\n",
        "\n",
        "# 차\n",
        "sns.distplot(df_train[df_train['car']=='N']['credit'], ax=axes[1],color='lightsteelblue')\n",
        "sns.distplot(df_train[df_train['car']=='Y']['credit'], ax=axes[1],color='dodgerblue')\n",
        "\n",
        "# 부동산\n",
        "sns.distplot(df_train[df_train['reality']=='N']['credit'], ax=axes[2],color='lightsteelblue')\n",
        "sns.distplot(df_train[df_train['reality']=='Y']['credit'], ax=axes[2],color='dodgerblue')\n",
        "\n",
        "axes[0].set_title('gender')\n",
        "axes[1].set_title('car')\n",
        "axes[2].set_title('reality')"
      ],
      "execution_count": null,
      "outputs": []
    },
    {
      "cell_type": "code",
      "metadata": {
        "id": "JT3gI1qjlqC_"
      },
      "source": [
        "pd.crosstab(df_train.credit,df_train.gender,margins=True).style.background_gradient(cmap='YlGnBu') # 성별"
      ],
      "execution_count": null,
      "outputs": []
    },
    {
      "cell_type": "code",
      "metadata": {
        "id": "VksuvRKXnEHf"
      },
      "source": [
        "pd.crosstab(df_train.credit,df_train.car,margins=True).style.background_gradient(cmap='YlGnBu') # 차"
      ],
      "execution_count": null,
      "outputs": []
    },
    {
      "cell_type": "code",
      "metadata": {
        "id": "ha_acoYknE7a"
      },
      "source": [
        "pd.crosstab(df_train.credit,df_train.reality,margins=True).style.background_gradient(cmap='YlGnBu') # 부동산"
      ],
      "execution_count": null,
      "outputs": []
    },
    {
      "cell_type": "markdown",
      "metadata": {
        "id": "HJsjAjAvkbSI"
      },
      "source": [
        "1) 성별 \n",
        "- 남성, 여성 모두 신용점수가 낮은 사람들이 높은 사람들보다 많은 것을 확인할 수 있다.\n",
        "- 남성보다는 여성이 더 많음\n",
        "\n",
        "2) 차량 소유 여부\n",
        "- 차의 소유 여부와 상관없이 신용등급이 낮은 사람들이 더 높은 것을 확인\n",
        "- 차가 없는 사람들이 더 많음\n",
        "\n",
        "3) 부동산 소유 여부\n",
        "- 부동산 소유 여부와 상관없이 신용등급이 낮은 사람들이 더 높은 것을 확인\n",
        "- 부동산을 소유한 사람들이 더 많음\n"
      ]
    },
    {
      "cell_type": "code",
      "metadata": {
        "id": "NgWN0bWdu71T"
      },
      "source": [
        "# 핸드폰 소유 여부(가정용)\n",
        "set(list(df_train['FLAG_MOBIL'])) # 1만 나옴 가정용 핸드폰은 모두 존재..? 그러므로 이 변수는 제거해도 될것 같음"
      ],
      "execution_count": null,
      "outputs": []
    },
    {
      "cell_type": "code",
      "metadata": {
        "id": "QjIW2BXRtLC4"
      },
      "source": [
        "fig, axes = plt.subplots(1, 3, figsize=(15, 6))\n",
        "\n",
        "# 업무용 전화소유 여부\n",
        "sns.distplot(df_train[df_train['work_phone']==0]['credit'], ax=axes[0],color='lightsteelblue')\n",
        "sns.distplot(df_train[df_train['work_phone']==1]['credit'], ax=axes[0],color='dodgerblue')\n",
        "\n",
        "# 전화소유 여부\n",
        "sns.distplot(df_train[df_train['phone']==0]['credit'], ax=axes[1],color='lightsteelblue')\n",
        "sns.distplot(df_train[df_train['phone']==1]['credit'], ax=axes[1],color='dodgerblue')\n",
        "\n",
        "# 이메일 소유 여부\n",
        "sns.distplot(df_train[df_train['email']==0]['credit'], ax=axes[2],color='lightsteelblue')\n",
        "sns.distplot(df_train[df_train['email']==1]['credit'], ax=axes[2],color='dodgerblue')\n",
        "\n",
        "axes[0].set_title('work_phone')\n",
        "axes[1].set_title('phone')\n",
        "axes[2].set_title('email')"
      ],
      "execution_count": null,
      "outputs": []
    },
    {
      "cell_type": "code",
      "metadata": {
        "id": "VqR1cP6ukaDr"
      },
      "source": [
        "pd.crosstab(df_train.credit,df_train.work_phone,margins=True).style.background_gradient(cmap='YlGnBu') # 업무용 전화 "
      ],
      "execution_count": null,
      "outputs": []
    },
    {
      "cell_type": "code",
      "metadata": {
        "id": "pm4dSI2ckaGu"
      },
      "source": [
        "pd.crosstab(df_train.credit,df_train.phone,margins=True).style.background_gradient(cmap='YlGnBu') # 전화 "
      ],
      "execution_count": null,
      "outputs": []
    },
    {
      "cell_type": "code",
      "metadata": {
        "id": "lyd-92REkaJm"
      },
      "source": [
        "pd.crosstab(df_train.credit,df_train.email,margins=True).style.background_gradient(cmap='YlGnBu') # 이메일 "
      ],
      "execution_count": null,
      "outputs": []
    },
    {
      "cell_type": "markdown",
      "metadata": {
        "id": "mpjyW5AhuPJW"
      },
      "source": [
        "4) 가정용 핸드폰 \n",
        "- 데이터 값 1만 존재 → 가정용 핸드폰은 모두 존재..? \n",
        "그러므로 이 변수는 신용등급 변화에 유의미한 변화를 줄 것같지는 않음\n",
        "\n",
        "\n",
        "5) 업무용 전화 \n",
        "- 업무용 전화가 존재하든 안하든 모두 신용점수가 낮은 사람들이 높은 사람들보다 많은 것을 확인할 수 있다.\n",
        "- 업무용 전화가 없는 사람이 더 많음\n",
        "\n",
        "2) 전화 소유 여부\n",
        "- 전화의 소유 여부와 상관없이 신용등급이 낮은 사람들이 더 높은 것을 확인\n",
        "- 전화가 없는 사람들이 더 많음\n",
        "\n",
        "3) 이메일 소유 여부\n",
        "- 이메일의 소유 여부와 상관없이 신용등급이 낮은 사람들이 더 높은 것을 확인\n",
        "- 이메일을 소유하지 않은 사람들이 더 많음"
      ]
    },
    {
      "cell_type": "markdown",
      "metadata": {
        "id": "P3nckawqw8Pc"
      },
      "source": [
        "## **Muti Category**\n",
        "\n",
        "특이한 점은 발견할 수 없었음"
      ]
    },
    {
      "cell_type": "markdown",
      "metadata": {
        "id": "p6agLMUF6kxA"
      },
      "source": [
        "**house_type - 생활방식**"
      ]
    },
    {
      "cell_type": "code",
      "metadata": {
        "id": "NappEcUd3qab"
      },
      "source": [
        "pd.crosstab(df_train.credit,df_train.house_type,margins=True).style.background_gradient(cmap='YlGnBu') "
      ],
      "execution_count": null,
      "outputs": []
    },
    {
      "cell_type": "code",
      "metadata": {
        "id": "ntLCqbmp4yiU"
      },
      "source": [
        "plt.figure(figsize=(15,5))\n",
        "sns.countplot('house_type',hue='credit',data=df_train,palette='husl')"
      ],
      "execution_count": null,
      "outputs": []
    },
    {
      "cell_type": "markdown",
      "metadata": {
        "id": "ttJW-mnL5uNL"
      },
      "source": [
        "테이블과 그래프를 살펴보았을때, 평범한 아파트에서 사는 사람들이 대부분인 것을 확인 할 수 있다."
      ]
    },
    {
      "cell_type": "markdown",
      "metadata": {
        "id": "Y5oYq4967SkV"
      },
      "source": [
        "**occyp_type - 직업유형**"
      ]
    },
    {
      "cell_type": "code",
      "metadata": {
        "id": "7yJ8B6d-6ATZ"
      },
      "source": [
        "pd.crosstab(df_train.credit,df_train.occyp_type,margins=True).style.background_gradient(cmap='YlGnBu') "
      ],
      "execution_count": null,
      "outputs": []
    },
    {
      "cell_type": "code",
      "metadata": {
        "id": "2b-OBzj5-zOc"
      },
      "source": [
        "plt.figure(figsize=(20,5))\n",
        "sns.countplot('occyp_type',hue='credit',data=df_train,palette='husl')"
      ],
      "execution_count": null,
      "outputs": []
    },
    {
      "cell_type": "markdown",
      "metadata": {
        "id": "PYtAV5QFBzTp"
      },
      "source": [
        "HR staff, Low-skill Laborers, Realty agents는 신용등급이 1인사람들보다 등급이 0인 사람들이 더 많은 것을 확인 할 수 있다."
      ]
    },
    {
      "cell_type": "markdown",
      "metadata": {
        "id": "t2yHTWlICa5E"
      },
      "source": [
        "**income_type - 소득분류**"
      ]
    },
    {
      "cell_type": "code",
      "metadata": {
        "id": "Ir6RFcXr-zWc"
      },
      "source": [
        "pd.crosstab(df_train.credit,df_train.income_type,margins=True).style.background_gradient(cmap='YlGnBu') "
      ],
      "execution_count": null,
      "outputs": []
    },
    {
      "cell_type": "code",
      "metadata": {
        "id": "BXtEJfaE-zag"
      },
      "source": [
        "plt.figure(figsize=(15,5))\n",
        "sns.countplot('income_type',hue='credit',data=df_train,palette='husl')"
      ],
      "execution_count": null,
      "outputs": []
    },
    {
      "cell_type": "markdown",
      "metadata": {
        "id": "-rlwM_a8DJSb"
      },
      "source": [
        "데이터에서 working이 차지하는 비율이 높다는 것을 확인 할 수 있음\n",
        "\n",
        "소득분류에서 학생이 차지하는 부분은 매우 적은것을 확인 할 수 있다."
      ]
    },
    {
      "cell_type": "markdown",
      "metadata": {
        "id": "i2gon18LGPpe"
      },
      "source": [
        "**family_type - 결혼여부**"
      ]
    },
    {
      "cell_type": "code",
      "metadata": {
        "id": "4W5BYGjlGsc7"
      },
      "source": [
        "pd.crosstab(df_train.credit,df_train.family_type,margins=True).style.background_gradient(cmap='YlGnBu') "
      ],
      "execution_count": null,
      "outputs": []
    },
    {
      "cell_type": "code",
      "metadata": {
        "id": "Rhj3dyLJGsfK"
      },
      "source": [
        "plt.figure(figsize=(15,5))\n",
        "sns.countplot('family_type',hue='credit',data=df_train,palette='husl')"
      ],
      "execution_count": null,
      "outputs": []
    },
    {
      "cell_type": "markdown",
      "metadata": {
        "id": "8QKD0kAjG10N"
      },
      "source": [
        "결혼한 사람들의 비율이 가장 높다는 것을 확인 할 수 있다."
      ]
    },
    {
      "cell_type": "markdown",
      "metadata": {
        "id": "RI8TG-eHG9iE"
      },
      "source": [
        "## **discrete type**"
      ]
    },
    {
      "cell_type": "markdown",
      "metadata": {
        "id": "3zaYpsGSJ5_X"
      },
      "source": [
        "**family_size  - 가족 일원 수**"
      ]
    },
    {
      "cell_type": "code",
      "metadata": {
        "id": "F4V92DYhdMNK"
      },
      "source": [
        "pd.crosstab(df_train.credit,df_train.family_size,margins=True).style.background_gradient(cmap='YlGnBu') "
      ],
      "execution_count": null,
      "outputs": []
    },
    {
      "cell_type": "code",
      "metadata": {
        "id": "rXqA52uHGsiY"
      },
      "source": [
        "plt.figure(figsize=(15,5))\n",
        "sns.countplot('family_size',hue='credit',data=df_train,palette='husl')"
      ],
      "execution_count": null,
      "outputs": []
    },
    {
      "cell_type": "markdown",
      "metadata": {
        "id": "R7LN5eM0c44I"
      },
      "source": [
        "가족 일원수가 2명인 곳이 신용등급의 차가 매우 큰 것을 알 수 있다. \n",
        "ex) 1→2로 등급이 나빠지는 폭이 매우 커짐\n",
        "\n",
        "대가족인 데이터들이 간혹 보이지만, 신용등급이 좋지는 않음"
      ]
    },
    {
      "cell_type": "markdown",
      "metadata": {
        "id": "XbnQe4uAd48f"
      },
      "source": [
        "**child_num - 자녀 수**"
      ]
    },
    {
      "cell_type": "code",
      "metadata": {
        "id": "VwEP_d4AGslG"
      },
      "source": [
        "pd.crosstab(df_train.credit,df_train.child_num,margins=True).style.background_gradient(cmap='YlGnBu') "
      ],
      "execution_count": null,
      "outputs": []
    },
    {
      "cell_type": "code",
      "metadata": {
        "id": "CCH4SDNueFy0"
      },
      "source": [
        "plt.figure(figsize=(15,5))\n",
        "sns.countplot('child_num',hue='credit',data=df_train,palette='husl')"
      ],
      "execution_count": null,
      "outputs": []
    },
    {
      "cell_type": "markdown",
      "metadata": {
        "id": "AewbaXfWeNPe"
      },
      "source": [
        "자녀 수가 0인 사람들이 대부분인것을 확인 할 수 있다.\n",
        "신용등급이 안좋은 사람들이 극단적으로 많음\n",
        "\n",
        "가족 일원 수와 비슷한 분포를 지닌것을 확인 할 수 있다."
      ]
    },
    {
      "cell_type": "markdown",
      "metadata": {
        "id": "y_khZEyuekZj"
      },
      "source": [
        "## **ordinary type**"
      ]
    },
    {
      "cell_type": "markdown",
      "metadata": {
        "id": "D1koLcdKey5H"
      },
      "source": [
        "**edu_type - 교육수준**"
      ]
    },
    {
      "cell_type": "code",
      "metadata": {
        "id": "Nh7iBLite6S_"
      },
      "source": [
        "pd.crosstab(df_train.credit,df_train.edu_type,margins=True).style.background_gradient(cmap='YlGnBu') "
      ],
      "execution_count": null,
      "outputs": []
    },
    {
      "cell_type": "code",
      "metadata": {
        "id": "Ga1_6TE8FcHA"
      },
      "source": [
        "fig, axes = plt.subplots(1, 2, figsize=(20,6))\n",
        "df_train['edu_type'].value_counts().plot.pie(explode=[0,0.1,0.1,0.1,0.1],autopct='%1.1f%%',ax=axes[0], textprops={'fontsize': 14},shadow=True,colors=['lightcoral','orange','turquoise','cornflowerblue','mediumpurple'])\n",
        "axes[0].set_title('edu_type')\n",
        "axes[0].set_ylabel('edu_type')\n",
        "sns.countplot('edu_type',hue='credit',data=df_train,palette='husl')\n",
        "axes[1].set_title('edu_type')\n",
        "plt.show()"
      ],
      "execution_count": null,
      "outputs": []
    },
    {
      "cell_type": "markdown",
      "metadata": {
        "id": "WaXYRU_dH1gY"
      },
      "source": [
        "전체 데이터에서 Secondary가 가장 높은 비율을 차지하는 것을 확인 할 수 있다. "
      ]
    },
    {
      "cell_type": "markdown",
      "metadata": {
        "id": "kXzS87_YIEuO"
      },
      "source": [
        "## **continuous type**"
      ]
    },
    {
      "cell_type": "markdown",
      "metadata": {
        "id": "swjA-Mvd9H3t"
      },
      "source": [
        "**income_total - 수익**\n"
      ]
    },
    {
      "cell_type": "code",
      "metadata": {
        "id": "JpGrLARQIbYO"
      },
      "source": [
        "plt.figure(figsize=(15,10))\n",
        "\n",
        "sns.boxplot(x = \"credit\", y = \"income_total\", data = df_train,palette = \"husl\")\n",
        "\n",
        "plt.show()"
      ],
      "execution_count": null,
      "outputs": []
    },
    {
      "cell_type": "markdown",
      "metadata": {
        "id": "gvQvSgD7AwHl"
      },
      "source": [
        "신용등급이 높을수록 수익의 격차가 적은 것을 확인 할 수 있다.\n",
        "\n",
        "박스플랏을 살펴보면 신용등급이 높을수록? 좋을 수록? 매우 미세한 정도로 수익이 높은 것을 확인 할 수 있다.\n",
        "\n",
        "신용등급이 낮은 사람들의 수익을 살펴보았을 때 빈부격차가 매우 심한것을 확인 할 수 있다. \n",
        "\n",
        "수익이 신용등급에 어느정도 조금?은 영향을 미치는 것으로 확인된다."
      ]
    },
    {
      "cell_type": "markdown",
      "metadata": {
        "id": "MhwxWt5hDZ9P"
      },
      "source": [
        "**DAYS_BIRTH - 출생일**"
      ]
    },
    {
      "cell_type": "code",
      "metadata": {
        "id": "IkawOR9I-IEB"
      },
      "source": [
        "# 일 단위를 연 단위로 변환\n",
        "df_train.loc[:,'age']=abs(df_train['DAYS_BIRTH']/365).astype(int)"
      ],
      "execution_count": null,
      "outputs": []
    },
    {
      "cell_type": "code",
      "metadata": {
        "id": "ql5ZP0rVKTro"
      },
      "source": [
        "fig, axes = plt.subplots(1, 4, figsize=(20, 6))\n",
        "\n",
        "sns.distplot(df_train[df_train['credit']==0]['age'], ax=axes[0],color='cornflowerblue')\n",
        "sns.distplot(df_train[df_train['credit']==1]['age'], ax=axes[1],color='cornflowerblue')\n",
        "sns.distplot(df_train[df_train['credit']==2]['age'], ax=axes[2],color='cornflowerblue')\n",
        "\n",
        "sns.regplot(y=df_train['age'], x=df_train['income_total'],ax=axes[3],fit_reg=True,color='lightcoral')\n",
        "axes[0].set_title('credit_0')\n",
        "axes[1].set_title('credit_1')\n",
        "axes[2].set_title('credit_2')"
      ],
      "execution_count": null,
      "outputs": []
    },
    {
      "cell_type": "markdown",
      "metadata": {
        "id": "V3qYF83OKS_3"
      },
      "source": [
        "신용등급이 좋은 사람들의 나이를 살펴보았을 때, 30-40대 초반에 높은 것을 확인 할 수 있다. 30-40에 보통 정기적으로 수익을 가지고 직업을 가지기 때문에 이러한 결과가 나온 것으로 예상\n",
        "\n",
        "신용등급이 보통인 사람들도 등급이 높은 사람들과 비슷한 결과가 나온것을 확인 할 수 있다.\n",
        "\n",
        "반면, 신용등급이 낮은 사람들은 나이대가 무분별한것을 확인 할 수 있다.\n",
        "\n",
        "\n",
        "수익을 살펴보았을때 특정나이대에 수익이 높은것은 아닌것 같다."
      ]
    },
    {
      "cell_type": "markdown",
      "metadata": {
        "id": "y7-zEA13OeLd"
      },
      "source": [
        "**DAYS_EMPLOYED - 업무시작일**"
      ]
    },
    {
      "cell_type": "code",
      "metadata": {
        "id": "A1zi0TPAV4sH"
      },
      "source": [
        " df_train['DAYS_EMPLOYED'].hist()"
      ],
      "execution_count": null,
      "outputs": []
    },
    {
      "cell_type": "markdown",
      "metadata": {
        "id": "2-sWP59RWB4m"
      },
      "source": [
        "무직자가 생각보다 많은것을 확인 할 수 있다."
      ]
    },
    {
      "cell_type": "code",
      "metadata": {
        "id": "SZ96uWHzObfJ"
      },
      "source": [
        "fig, axes = plt.subplots(1, 2, figsize=(20, 6))\n",
        "\n",
        "sns.distplot(df_train[df_train['DAYS_EMPLOYED']>=0]['credit'],ax=axes[0],color='dodgerblue')\n",
        "sns.distplot(df_train[df_train['DAYS_EMPLOYED']<0]['credit'],ax=axes[1],color='lightcoral')\n",
        "axes[0].set_title('no_working')\n",
        "axes[1].set_title('working')\n"
      ],
      "execution_count": null,
      "outputs": []
    },
    {
      "cell_type": "markdown",
      "metadata": {
        "id": "LVx_CQeTZI8o"
      },
      "source": [
        "무직자랑 직업이 있는 사람들의 분포 차이가 거의 없는 것을 확인 할 수 있다."
      ]
    },
    {
      "cell_type": "markdown",
      "metadata": {
        "id": "NJv3CvHybRkE"
      },
      "source": [
        "**begin_month - 신용카드 발급 월**"
      ]
    },
    {
      "cell_type": "code",
      "metadata": {
        "id": "ujw6YWVfWQqZ"
      },
      "source": [
        "fig, axes = plt.subplots(1, 3, figsize=(20, 6))\n",
        "\n",
        "sns.distplot(abs(df_train[df_train['credit']==0]['begin_month']), ax=axes[0],color='cornflowerblue')\n",
        "sns.distplot(abs(df_train[df_train['credit']==1]['begin_month']), ax=axes[1],color='cornflowerblue')\n",
        "sns.distplot(abs(df_train[df_train['credit']==2]['begin_month']), ax=axes[2],color='cornflowerblue')\n",
        "\n",
        "axes[0].set_title('credit_0')\n",
        "axes[1].set_title('credit_1')\n",
        "axes[2].set_title('credit_2')"
      ],
      "execution_count": null,
      "outputs": []
    },
    {
      "cell_type": "code",
      "metadata": {
        "id": "RZPUHA78fhPs"
      },
      "source": [
        "plt.figure(figsize=(15,10))\n",
        "\n",
        "sns.distplot(abs(df_train[df_train['credit']==0]['begin_month']),label='credit0')\n",
        "sns.distplot(abs(df_train[df_train['credit']==1]['begin_month']),label='credit1')\n",
        "sns.distplot(abs(df_train[df_train['credit']==2]['begin_month']),label='credit2')\n",
        "plt.legend()"
      ],
      "execution_count": null,
      "outputs": []
    },
    {
      "cell_type": "markdown",
      "metadata": {
        "id": "Cm76-EFzfNlv"
      },
      "source": [
        "신용등급이 낮을수록 신용카드를 더 많이 사용하는 경향이 있음 (발급월이 늘어날 수록 그만큼 신용카드를 오래 사용했다는 것을 추측)\n",
        "\n",
        "현재 우리나라에서는 신용카드를 많이 사용하면 신용등급이 올라가기때문에 신용카드를 많이 사용하는데, 이는 데이터 출처 나라에도 적용되기 때문에 등급이 낮은 사람들이 조금더 신용카드를 사용하지 않았을까 하는 생각"
      ]
    },
    {
      "cell_type": "markdown",
      "metadata": {
        "id": "oAbS9hCS-OHf"
      },
      "source": [
        "# **※1등 코드를 참조하여 공부 + pycaret 시도**\n",
        "\n",
        "1등 코드 출처 : https://dacon.io/competitions/official/235713/codeshare/2768?page=1&dtype=recent\n",
        "\n",
        "pycaret 코드 출처 : https://dacon.io/competitions/official/235689/codeshare/2375?page=3&dtype=recent&ptype=pub\n",
        "-> 실패"
      ]
    },
    {
      "cell_type": "markdown",
      "metadata": {
        "id": "ScXzi4HJ2qMO"
      },
      "source": [
        "# **2. 데이터 전처리**"
      ]
    },
    {
      "cell_type": "markdown",
      "metadata": {
        "id": "UCq1Nw4L3c-h"
      },
      "source": [
        "## **결측치 제거**"
      ]
    },
    {
      "cell_type": "code",
      "metadata": {
        "id": "CfivpLzs2pMv"
      },
      "source": [
        "df_train.isnull().sum()"
      ],
      "execution_count": null,
      "outputs": []
    },
    {
      "cell_type": "code",
      "metadata": {
        "id": "5JYnene93g-t"
      },
      "source": [
        "(8171/len(df_train))*100"
      ],
      "execution_count": null,
      "outputs": []
    },
    {
      "cell_type": "markdown",
      "metadata": {
        "id": "liRKPH_T3og9"
      },
      "source": [
        "전체 데이터 중 결측치가 30%나 차지하기때문에 조정 필요"
      ]
    },
    {
      "cell_type": "code",
      "metadata": {
        "id": "6frByNJa3P5x"
      },
      "source": [
        "# 결측치 처리\n",
        "df_train.fillna('NaN', inplace=True) \n",
        "df_test.fillna('NaN', inplace=True)"
      ],
      "execution_count": null,
      "outputs": []
    },
    {
      "cell_type": "markdown",
      "metadata": {
        "id": "XaSZ99yC6uDY"
      },
      "source": [
        "## **이상치 처리**\n",
        "\n",
        "- family_size >= 7 인 데이터 제거하기 / test 데이터에는 없기 때문"
      ]
    },
    {
      "cell_type": "code",
      "metadata": {
        "id": "1UvuhdsM6s6J"
      },
      "source": [
        "df_train = df_train[(df_train['family_size'] < 7)]\n",
        "df_train = df_train.reset_index(drop=True)"
      ],
      "execution_count": null,
      "outputs": []
    },
    {
      "cell_type": "markdown",
      "metadata": {
        "id": "_rdeK7l47VSR"
      },
      "source": [
        "## **Feature  Engineering**\n",
        "\n",
        "1) 필요없는 변수 제거\n",
        "\n",
        "- index\n",
        "- FLAG_MOBIL의 값들이 모두 1이므로 삭제"
      ]
    },
    {
      "cell_type": "code",
      "metadata": {
        "id": "k7lqr_mU6tDN"
      },
      "source": [
        "df_train.drop(['index', 'FLAG_MOBIL'], axis=1, inplace=True)\n",
        "df_test.drop(['index', 'FLAG_MOBIL'], axis=1, inplace=True)"
      ],
      "execution_count": null,
      "outputs": []
    },
    {
      "cell_type": "markdown",
      "metadata": {
        "id": "DFpVS8t78Rkx"
      },
      "source": [
        "2) DAYS_EMPLOYED 양수 값은 고용되지 않은 상태를 의미함 그러므로 양수는 0처리"
      ]
    },
    {
      "cell_type": "code",
      "metadata": {
        "id": "QkVEZ4io6tHg"
      },
      "source": [
        "df_train['DAYS_EMPLOYED']=df_train['DAYS_EMPLOYED'].map(lambda x: 0 if x>0 else x)\n",
        "df_test['DAYS_EMPLOYED']=df_test['DAYS_EMPLOYED'].map(lambda x: 0 if x>0 else x)"
      ],
      "execution_count": null,
      "outputs": []
    },
    {
      "cell_type": "markdown",
      "metadata": {
        "id": "8Edbnnbs8u2e"
      },
      "source": [
        "3) DAYS_BIRTH, begin_month, DAYS_EMPLOYED 헷갈리지 않게 양수로 변환"
      ]
    },
    {
      "cell_type": "code",
      "metadata": {
        "id": "Jx4sxsnK6tJj"
      },
      "source": [
        "variables = ['DAYS_BIRTH', 'begin_month', 'DAYS_EMPLOYED']\n",
        "for variable in variables:\n",
        "    df_train[variable]=np.abs(df_train[variable])\n",
        "    df_test[variable]=np.abs(df_test[variable])"
      ],
      "execution_count": null,
      "outputs": []
    },
    {
      "cell_type": "markdown",
      "metadata": {
        "id": "ttGEUxRr_6z6"
      },
      "source": [
        "4) 파생변수 생성"
      ]
    },
    {
      "cell_type": "code",
      "metadata": {
        "id": "b6elvjpQ6tMB"
      },
      "source": [
        "for df in [df_train,df_test]:\n",
        "    # before_EMPLOYED: 고용되기 전까지의 일수 -> 언제 취업 했는지 나이대가 언제 인지 추측가능할듯 \n",
        "    df['before_EMPLOYED'] = df['DAYS_BIRTH'] - df['DAYS_EMPLOYED']\n",
        "    df['income_total_befofeEMP_ratio'] = df['income_total'] / df['before_EMPLOYED']\n",
        "    df['before_EMPLOYED_Month'] = np.floor(df['before_EMPLOYED'] / 30) - ((np.floor(df['before_EMPLOYED'] / 30) / 12).astype(int) * 12)\n",
        "    df['before_EMPLOYED_Week'] = np.floor(df['before_EMPLOYED'] / 7) - ((np.floor(df['before_EMPLOYED'] / 7) / 4).astype(int) * 4)\n",
        "    \n",
        "    #DAYS_BIRTH 파생변수- Age(나이), 태어난 월, 태어난 주(출생연도의 n주차)\n",
        "    df['Age'] = df['DAYS_BIRTH'] // 365\n",
        "    df['DAYS_BIRTH_Month'] = np.floor(df['DAYS_BIRTH'] / 30) - ((np.floor(df['DAYS_BIRTH'] / 30) / 12).astype(int) * 12)\n",
        "    df['DAYS_BIRTH_Week'] = np.floor(df['DAYS_BIRTH'] / 7) - ((np.floor(df['DAYS_BIRTH'] / 7) / 4).astype(int) * 4)\n",
        "\n",
        "    \n",
        "    #DAYS_EMPLOYED_m 파생변수- EMPLOYED(근속연수), DAYS_EMPLOYED_m(고용된 달) ,DAYS_EMPLOYED_w(고용된 주(고용연도의 n주차))  \n",
        "    df['EMPLOYED'] = df['DAYS_EMPLOYED'] // 365\n",
        "    df['DAYS_EMPLOYED_Month'] = np.floor(df['DAYS_EMPLOYED'] / 30) - ((np.floor(df['DAYS_EMPLOYED'] / 30) / 12).astype(int) * 12)\n",
        "    df['DAYS_EMPLOYED_Week'] = np.floor(df['DAYS_EMPLOYED'] / 7) - ((np.floor(df['DAYS_EMPLOYED'] / 7) / 4).astype(int) * 4)\n",
        "\n",
        "    #ability: 소득/(살아온 일수+ 근무일수) -> ? 이거는 무슨 의미인지 잘 모르겠음\n",
        "    df['ability'] = df['income_total'] / (df['DAYS_BIRTH'] + df['DAYS_EMPLOYED'])\n",
        "    \n",
        "    #income_mean: 소득/ 가족 수\n",
        "    df['income_mean_fa'] = df['income_total'] / df['family_size']\n",
        "    \n",
        "    #ID 생성: 각 컬럼의 값들을 더해서 고유한 사람을 파악(*한 사람이 여러 개 카드를 만들 가능성을 고려해 begin_month는 제외함) - 중복되는 데이터 때문에 생성한것 같음\n",
        "    df['ID'] = \\\n",
        "    df['child_num'].astype(str) + '_' + df['income_total'].astype(str) + '_' +\\\n",
        "    df['DAYS_BIRTH'].astype(str) + '_' + df['DAYS_EMPLOYED'].astype(str) + '_' +\\\n",
        "    df['work_phone'].astype(str) + '_' + df['phone'].astype(str) + '_' +\\\n",
        "    df['email'].astype(str) + '_' + df['family_size'].astype(str) + '_' +\\\n",
        "    df['gender'].astype(str) + '_' + df['car'].astype(str) + '_' +\\\n",
        "    df['reality'].astype(str) + '_' + df['income_type'].astype(str) + '_' +\\\n",
        "    df['edu_type'].astype(str) + '_' + df['family_type'].astype(str) + '_' +\\\n",
        "    df['house_type'].astype(str) + '_' + df['occyp_type'].astype(str)"
      ],
      "execution_count": null,
      "outputs": []
    },
    {
      "cell_type": "code",
      "metadata": {
        "id": "7DjV4k40_nho"
      },
      "source": [
        "df_train"
      ],
      "execution_count": null,
      "outputs": []
    },
    {
      "cell_type": "code",
      "metadata": {
        "id": "OG6hgkW8Sisr"
      },
      "source": [
        "len(df_train)"
      ],
      "execution_count": null,
      "outputs": []
    },
    {
      "cell_type": "markdown",
      "metadata": {
        "id": "86qBYGFzAnRA"
      },
      "source": [
        "5) 파생변수와 다중공선성을 보이는 컬럼 삭제 "
      ]
    },
    {
      "cell_type": "code",
      "metadata": {
        "id": "y-BCOAxm__de"
      },
      "source": [
        "plt.figure(figsize=(15,15))\n",
        "sns.heatmap(data = df_train.corr(), annot=True, \n",
        "fmt = '.2f', linewidths=.5, cmap='Blues')"
      ],
      "execution_count": null,
      "outputs": []
    },
    {
      "cell_type": "code",
      "metadata": {
        "id": "9Z3gf0YhArOX"
      },
      "source": [
        "cols = ['child_num','DAYS_BIRTH', 'DAYS_EMPLOYED']\n",
        "df_train.drop(cols, axis=1, inplace=True)\n",
        "df_test.drop(cols, axis=1, inplace=True)"
      ],
      "execution_count": null,
      "outputs": []
    },
    {
      "cell_type": "markdown",
      "metadata": {
        "id": "z4lX0E2dCwXF"
      },
      "source": [
        "## **Scaling, Encoding**"
      ]
    },
    {
      "cell_type": "markdown",
      "metadata": {
        "id": "rlW1HE4cC3JE"
      },
      "source": [
        "1) 범주형, 연속형 비교"
      ]
    },
    {
      "cell_type": "code",
      "metadata": {
        "id": "KTbNtaArC7bx"
      },
      "source": [
        "numerical_feats = df_train.dtypes[df_train.dtypes != \"object\"].index.tolist()\n",
        "numerical_feats.remove('credit')\n",
        "print(\"Number of Numerical features: \", len(numerical_feats))\n",
        "\n",
        "categorical_feats = df_train.dtypes[df_train.dtypes == \"object\"].index.tolist()\n",
        "print(\"Number of Categorical features: \", len(categorical_feats))"
      ],
      "execution_count": null,
      "outputs": []
    },
    {
      "cell_type": "code",
      "metadata": {
        "id": "DiCNAFtaFTmj"
      },
      "source": [
        "categorical_feats"
      ],
      "execution_count": null,
      "outputs": []
    },
    {
      "cell_type": "markdown",
      "metadata": {
        "id": "6nMh2jHXAxHC"
      },
      "source": [
        "2) 로그 변환\n",
        "\n",
        "- income_total"
      ]
    },
    {
      "cell_type": "code",
      "metadata": {
        "id": "LVHAD2upAwnc"
      },
      "source": [
        "df_train.income_total.hist()"
      ],
      "execution_count": null,
      "outputs": []
    },
    {
      "cell_type": "code",
      "metadata": {
        "id": "YRV6Rc5wAwqD"
      },
      "source": [
        "# 원본에 1을 더한 값에 로그를 씌우면 결국 log1인 것이니 0부터 값이 잘 나오게 된다. 그러나 매번 1을 더하기는 귀찮으니 Numpy에서는 log1p라는 함수로 이를 한번에 해줄 수 있다.\n",
        "for df in [df_train,df_test]:\n",
        "    df['income_total'] = np.log1p(1+df['income_total'])"
      ],
      "execution_count": null,
      "outputs": []
    },
    {
      "cell_type": "markdown",
      "metadata": {
        "id": "loAIcoWKB-3X"
      },
      "source": [
        "3) Encoding 범주형 -> 숫자"
      ]
    },
    {
      "cell_type": "code",
      "metadata": {
        "id": "ZGUjNXjXAwr4"
      },
      "source": [
        "encoder = OrdinalEncoder(categorical_feats)\n",
        "df_train[categorical_feats] = encoder.fit_transform(df_train[categorical_feats], df_train['credit'])\n",
        "df_train['ID'] = df_train['ID'].astype('int64')"
      ],
      "execution_count": null,
      "outputs": []
    },
    {
      "cell_type": "code",
      "metadata": {
        "id": "nv_dEHCFH0k9"
      },
      "source": [
        "encoder = OrdinalEncoder(categorical_feats)\n",
        "df_test[categorical_feats]=encoder.fit_transform(df_test[categorical_feats])\n",
        "df_test['ID'] = df_test['ID'].astype('int64')"
      ],
      "execution_count": null,
      "outputs": []
    },
    {
      "cell_type": "markdown",
      "metadata": {
        "id": "TvwwD8bkDMff"
      },
      "source": [
        "4) Clustering\n",
        "- 타겟을 결정 짓는 뚜렷한 특징을 갖는 피처를 찾기 위해 군집시도"
      ]
    },
    {
      "cell_type": "code",
      "metadata": {
        "id": "TMOKLoocAwud"
      },
      "source": [
        "kmeans_train = df_train.drop(['credit'], axis=1)\n",
        "kmeans = KMeans(n_clusters=36, random_state=42).fit(kmeans_train)\n",
        "df_train['cluster'] = kmeans.predict(kmeans_train)\n",
        "df_test['cluster'] = kmeans.predict(df_test)"
      ],
      "execution_count": null,
      "outputs": []
    },
    {
      "cell_type": "markdown",
      "metadata": {
        "id": "2lSSMLHVHADG"
      },
      "source": [
        "5) StandardScale\n",
        "- 이미 로그변환을 진행한 income_total을 제외한 나머지 numeric 컬럼 정규화"
      ]
    },
    {
      "cell_type": "code",
      "metadata": {
        "id": "xMOKxtLpEReP"
      },
      "source": [
        "numerical_feats.remove('income_total')\n",
        "scaler = StandardScaler()\n",
        "df_train[numerical_feats] = scaler.fit_transform(df_train[numerical_feats])\n",
        "df_test[numerical_feats] = scaler.transform(df_test[numerical_feats])"
      ],
      "execution_count": null,
      "outputs": []
    },
    {
      "cell_type": "code",
      "metadata": {
        "id": "9JNMusTMHMcI"
      },
      "source": [
        "df_train.head()"
      ],
      "execution_count": null,
      "outputs": []
    },
    {
      "cell_type": "code",
      "metadata": {
        "id": "44DkLPzuHOr8"
      },
      "source": [
        "df_test.head()"
      ],
      "execution_count": null,
      "outputs": []
    },
    {
      "cell_type": "markdown",
      "metadata": {
        "id": "Ruf1aMSHIuR7"
      },
      "source": [
        "## **Modeling - Catboost**"
      ]
    },
    {
      "cell_type": "code",
      "metadata": {
        "id": "GorQvlAJJD0n"
      },
      "source": [
        "n_est = 2000\n",
        "seed = 42\n",
        "n_fold = 15\n",
        "n_class = 3\n",
        "\n",
        "target = 'credit'\n",
        "X = df_train.drop(target, axis=1)\n",
        "y = df_train[target]\n",
        "X_test = df_test"
      ],
      "execution_count": null,
      "outputs": []
    },
    {
      "cell_type": "code",
      "metadata": {
        "id": "3h-L-rNgJD2-"
      },
      "source": [
        "skfold = StratifiedKFold(n_splits=n_fold, shuffle=True, random_state=seed)\n",
        "folds=[]\n",
        "for train_idx, valid_idx in skfold.split(X, y):\n",
        "        folds.append((train_idx, valid_idx))\n",
        "\n",
        "cat_pred = np.zeros((X.shape[0], n_class))\n",
        "cat_pred_test = np.zeros((X_test.shape[0], n_class))\n",
        "cat_cols = ['income_type', 'edu_type', 'family_type', 'house_type', 'occyp_type', 'ID']\n",
        "for fold in range(n_fold):\n",
        "  print(f'\\n----------------- Fold {fold} -----------------\\n')\n",
        "  train_idx, valid_idx = folds[fold]\n",
        "  X_train, X_valid, y_train, y_valid = X.iloc[train_idx], X.iloc[valid_idx], y[train_idx], y[valid_idx]\n",
        "  train_data = Pool(data=X_train, label=y_train, cat_features=cat_cols)\n",
        "  valid_data = Pool(data=X_valid, label=y_valid, cat_features=cat_cols)\n",
        "\n",
        "  model_cat = CatBoostClassifier()\n",
        "  model_cat.fit(train_data, eval_set=valid_data, use_best_model=True, early_stopping_rounds=100, verbose=100)\n",
        "  \n",
        "  cat_pred[valid_idx] = model_cat.predict_proba(X_valid)\n",
        "  cat_pred_test += model_cat.predict_proba(X_test) / n_fold\n",
        "  print(f'CV Log Loss Score: {log_loss(y_valid, cat_pred[valid_idx]):.6f}')\n",
        "    \n",
        "print(f'\\tLog Loss: {log_loss(y, cat_pred):.6f}')"
      ],
      "execution_count": null,
      "outputs": []
    },
    {
      "cell_type": "markdown",
      "metadata": {
        "id": "5f6MWH9nQ05k"
      },
      "source": [
        "# **변수 중요도**"
      ]
    },
    {
      "cell_type": "code",
      "metadata": {
        "id": "J5j05kbLJD5Y"
      },
      "source": [
        "def plot_feature_importance(importance,names,model_type):\n",
        "    \n",
        "    feature_importance = np.array(importance)\n",
        "    feature_names = np.array(names)\n",
        "    \n",
        "    data={'feature_names':feature_names,'feature_importance':feature_importance}\n",
        "    fi_df = pd.DataFrame(data)\n",
        "    \n",
        "    fi_df.sort_values(by=['feature_importance'], ascending=False,inplace=True)\n",
        "\n",
        "    plt.figure(figsize=(10,8))\n",
        "\n",
        "    sns.barplot(x=fi_df['feature_importance'], y=fi_df['feature_names'])\n",
        "\n",
        "    plt.title(model_type + ' Feature Importance')\n",
        "    plt.xlabel('Feature Importance')\n",
        "    plt.ylabel('Feature Names')"
      ],
      "execution_count": null,
      "outputs": []
    },
    {
      "cell_type": "code",
      "metadata": {
        "id": "Xi4pLikqQ5SP"
      },
      "source": [
        "plot_feature_importance(model_cat.get_feature_importance(),X_test.columns,'CATBOOST')"
      ],
      "execution_count": null,
      "outputs": []
    },
    {
      "cell_type": "markdown",
      "metadata": {
        "id": "JjejDt-5R_wP"
      },
      "source": [
        "# **Submission**"
      ]
    },
    {
      "cell_type": "code",
      "metadata": {
        "id": "87rgcKu4RJjK"
      },
      "source": [
        "sub = pd.read_csv('/content/drive/My Drive/sample_submission.csv')"
      ],
      "execution_count": null,
      "outputs": []
    },
    {
      "cell_type": "code",
      "metadata": {
        "id": "5BSNjr5ERiqd"
      },
      "source": [
        "sub.iloc[:, 1:] = cat_pred_test"
      ],
      "execution_count": null,
      "outputs": []
    },
    {
      "cell_type": "markdown",
      "metadata": {
        "id": "gyYuSs7PQ_xy"
      },
      "source": [
        "# **Pycaret**"
      ]
    },
    {
      "cell_type": "code",
      "metadata": {
        "id": "g1dlT-SWSTXP"
      },
      "source": [
        "! pip install pycaret"
      ],
      "execution_count": null,
      "outputs": []
    },
    {
      "cell_type": "code",
      "metadata": {
        "id": "aqcfNIWiSJ6B"
      },
      "source": [
        "### Find Best Model with Pycaret\n",
        "from pycaret.classification import *"
      ],
      "execution_count": null,
      "outputs": []
    },
    {
      "cell_type": "code",
      "metadata": {
        "id": "f9L76Pz0SJ8C"
      },
      "source": [
        "df_train"
      ],
      "execution_count": null,
      "outputs": []
    },
    {
      "cell_type": "code",
      "metadata": {
        "id": "aotlG0vfTdGd"
      },
      "source": [
        "df_train.credit=df_train.credit.astype('category')"
      ],
      "execution_count": null,
      "outputs": []
    },
    {
      "cell_type": "code",
      "metadata": {
        "id": "zD6IPjgcUBRr"
      },
      "source": [
        "# 범주형 변수들에서만 pycaret이 적용되는 것 같음\n",
        "\n",
        "check=df_train[['gender',\n",
        " 'car',\n",
        " 'reality',\n",
        " 'income_type',\n",
        " 'edu_type',\n",
        " 'family_type',\n",
        " 'house_type',\n",
        " 'occyp_type',\n",
        " 'ID','credit']]"
      ],
      "execution_count": null,
      "outputs": []
    },
    {
      "cell_type": "code",
      "metadata": {
        "id": "L6mtb6u8SJ-h"
      },
      "source": [
        "clf = setup(data = check, target = 'credit', silent = True)"
      ],
      "execution_count": null,
      "outputs": []
    },
    {
      "cell_type": "code",
      "metadata": {
        "id": "rCWMzXKaSKBF"
      },
      "source": [
        "compare_models(sort = 'Accuracy', n_select = 1, fold = 10) \n",
        "\n",
        "# 실패 ㅠㅠㅠㅠ "
      ],
      "execution_count": null,
      "outputs": []
    },
    {
      "cell_type": "code",
      "metadata": {
        "id": "uoQrvLEKSKEI"
      },
      "source": [
        ""
      ],
      "execution_count": null,
      "outputs": []
    }
  ]
}