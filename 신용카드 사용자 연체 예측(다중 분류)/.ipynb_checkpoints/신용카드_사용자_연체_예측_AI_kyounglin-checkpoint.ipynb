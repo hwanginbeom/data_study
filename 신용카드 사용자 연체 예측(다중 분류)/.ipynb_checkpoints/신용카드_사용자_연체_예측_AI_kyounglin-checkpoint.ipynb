{
 "cells": [
  {
   "cell_type": "code",
   "execution_count": null,
   "metadata": {
    "id": "HKA8i8yRK_s-"
   },
   "outputs": [],
   "source": [
    "# 기본\n",
    "import itertools\n",
    "import numpy as np\n",
    "import pandas as pd\n",
    "import seaborn as sns\n",
    "import matplotlib as mpl\n",
    "import matplotlib.pyplot as plt\n",
    "from sklearn.externals import joblib \n",
    "from sklearn.metrics import make_scorer\n"
   ]
  },
  {
   "cell_type": "code",
   "execution_count": null,
   "metadata": {
    "id": "O5qJ24pHiqzY"
   },
   "outputs": [],
   "source": [
    "# 경고창 무시 -> 회사에서 업무 처리할때는 무시하면 안됨\n",
    "import warnings\n",
    "warnings.filterwarnings(action='ignore')"
   ]
  },
  {
   "cell_type": "code",
   "execution_count": null,
   "metadata": {
    "id": "sUADNPpLtABs"
   },
   "outputs": [],
   "source": [
    "from google.colab import drive\n",
    "drive.mount('/content/drive')"
   ]
  },
  {
   "cell_type": "markdown",
   "metadata": {
    "id": "VgRUjaequA1l"
   },
   "source": [
    "**1. 주제**\n",
    "- **신용카드 사용자 데이터를 보고 사용자의 대금 연체 정도를 예측**하는 알고리즘 개발\n",
    "\n",
    "**2. 배경**\n",
    "- 신용카드사는 신용카드 신청자가 제출한 개인정보와 데이터를 활용해 신용 점수를 산정\n",
    "- 신용카드사는 이 신용 점수를 활용해 신청자의 향후 채무 불이행과 신용카드 대급 연체 가능성을 예측\n",
    "\n",
    "**3. 목표**\n",
    "- 사용자의 대금 연체 정도를 예측할 수 있는 인공지능 알고리즘을 개발해 금융업계에 제안할 수 있는 인사이트를 발굴"
   ]
  },
  {
   "cell_type": "code",
   "execution_count": null,
   "metadata": {
    "id": "hFCVKigItK0x"
   },
   "outputs": [],
   "source": [
    "# 데이터 불러오기\n",
    "df_train = pd.read_csv('/content/drive/My Drive/train.csv')\n",
    "df_test = pd.read_csv('/content/drive/My Drive/test.csv')"
   ]
  },
  {
   "cell_type": "code",
   "execution_count": null,
   "metadata": {
    "id": "uG2ZuSHktK3k"
   },
   "outputs": [],
   "source": [
    "df_train.head()"
   ]
  },
  {
   "cell_type": "code",
   "execution_count": null,
   "metadata": {
    "id": "xQxOAmLOtK9c"
   },
   "outputs": [],
   "source": [
    "df_train.info()"
   ]
  },
  {
   "cell_type": "markdown",
   "metadata": {
    "id": "Qyi6hF7r5qdt"
   },
   "source": [
    "# **1. EDA**"
   ]
  },
  {
   "cell_type": "markdown",
   "metadata": {
    "id": "0hSxEDhjzkov"
   },
   "source": [
    "## **데이터 타입 및 변수 확인**\n",
    "\n",
    "**Binary**\n",
    "\n",
    "- gender: 성별\n",
    "\n",
    "- car: 차량 소유 여부\n",
    "\n",
    "- reality: 부동산 소유 여부\n",
    "\n",
    "- FLAG_MOBIL: 핸드폰 소유 여부(가정용)\n",
    "\n",
    "- work_phone: 업무용 전화 소유 여부\n",
    "\n",
    "- phone: 전화 소유 여부\n",
    "\n",
    "- email: 이메일 소유 여부\n",
    "\n",
    "**Multi_category**\n",
    "\n",
    "- house_type: 생활 방식\n",
    "\n",
    "- occyp_type: 직업 유형\n",
    "\n",
    "- income_type: 소득 분류\n",
    "\n",
    "- family_type: 결혼 여부\n",
    "\n",
    "**discrete type**\n",
    "\n",
    "- family_size: 가족 일원 수 \n",
    "\n",
    "- child_num : 자녀 수\n",
    "\n",
    "**ordinary type**\n",
    "\n",
    "- edu_type : 교육 수준\n",
    "\n",
    "- credit : 신용 기준 → 낮을 수록 높은 시용의 신용카드 사용자(대금연체를 기준으로 한 신용도임)\n",
    "\n",
    "**continuus type**\n",
    "\n",
    "- income_total : 수익\n",
    "\n",
    "- DAYS_BIRTH : 출생일 → 데이터 수집 당시 (0)부터 역으로 셈, 즉, -1은 데이터 수집일 하루 전에 태어났음을 의미\n",
    "\n",
    "- DAYS_EMPLOYED : 업무 시작일 →  -1은 데이터 수집일 하루 전부터 일을 시작함을 의미 / 양수 값은 고용되지 않은 상태를 의미함\n",
    "\n",
    "- begin_month : 신용카드 발급 월 → -1은 데이터 수집일 한 달 전에 신용카드를 발급함 / 데이터 수집 당시 0부터 역으로 셈\n",
    "\n",
    "\n"
   ]
  },
  {
   "cell_type": "markdown",
   "metadata": {
    "id": "UCUvR9pl5nWR"
   },
   "source": [
    "## **결측치 확인**"
   ]
  },
  {
   "cell_type": "code",
   "execution_count": null,
   "metadata": {
    "id": "gpeve5mOwel4"
   },
   "outputs": [],
   "source": [
    "df_train.isnull().sum()"
   ]
  },
  {
   "cell_type": "code",
   "execution_count": null,
   "metadata": {
    "id": "9vjZvS-JsZ3y"
   },
   "outputs": [],
   "source": [
    "set(df_train['occyp_type'])"
   ]
  },
  {
   "cell_type": "code",
   "execution_count": null,
   "metadata": {
    "id": "x4dHcfQ4wkzn"
   },
   "outputs": [],
   "source": [
    "(8171/26457)*100"
   ]
  },
  {
   "cell_type": "markdown",
   "metadata": {
    "id": "8GuuhbAzwOh0"
   },
   "source": [
    "train 데이터의 컬럼 정보를 살펴보았을때 occyp_type 변수만 결측치가 존재하는 것을 확인\n",
    "\n",
    "직업 유형이 결측치 -> 직업이 없는 무직자로 생각해야할지 or 전체 데이터 중 30% 비율의 결측치를 제거해야할지 고민이 필요하다.\n"
   ]
  },
  {
   "cell_type": "code",
   "execution_count": null,
   "metadata": {
    "id": "1Bmpot9VKP7i"
   },
   "outputs": [],
   "source": [
    "df_train['credit'].value_counts()"
   ]
  },
  {
   "cell_type": "markdown",
   "metadata": {
    "id": "OSnS7QYkJts4"
   },
   "source": [
    "## **Credit (종속변수 - 예측값) 비율 살펴보기**"
   ]
  },
  {
   "cell_type": "code",
   "execution_count": null,
   "metadata": {
    "id": "Yf70bsunJkac"
   },
   "outputs": [],
   "source": [
    "fig, axes = plt.subplots(1, 2, figsize=(15,6))\n",
    "df_train['credit'].value_counts().plot.pie(explode=[0,0.1,0.1],autopct='%1.1f%%',ax=axes[0], textprops={'fontsize': 14},shadow=True,colors=['lightsteelblue','cornflowerblue','royalblue'])\n",
    "axes[0].set_title('credit')\n",
    "axes[0].set_ylabel('credit')\n",
    "sns.countplot('credit',data=df_train,ax=axes[1],palette='Set2')\n",
    "axes[1].set_title('credit')\n",
    "plt.show()"
   ]
  },
  {
   "cell_type": "markdown",
   "metadata": {
    "id": "eXdzcd6nMj5E"
   },
   "source": [
    "2→1→0으로 갈수록 신용등급이 높음\n",
    "\n",
    "그러나 그래프를 살펴보았을때, 신용등급이 낮은 고객들의 수가 더 높은 것을 확인 할 수 있다."
   ]
  },
  {
   "cell_type": "markdown",
   "metadata": {
    "id": "hsVWojQdGikk"
   },
   "source": [
    "## **Binary**\n",
    "\n",
    "- 전반적으로 크게 드러나는 특징은 존재하지 않음"
   ]
  },
  {
   "cell_type": "code",
   "execution_count": null,
   "metadata": {
    "id": "ox2s0ReDzUZT"
   },
   "outputs": [],
   "source": [
    "fig, axes = plt.subplots(1, 3, figsize=(15, 6))\n",
    "\n",
    "# 성별\n",
    "sns.distplot(df_train[df_train['gender']=='M']['credit'], ax=axes[0],color='blue')\n",
    "sns.distplot(df_train[df_train['gender']=='F']['credit'], ax=axes[0],color='red')\n",
    "\n",
    "# 차\n",
    "sns.distplot(df_train[df_train['car']=='N']['credit'], ax=axes[1],color='lightsteelblue')\n",
    "sns.distplot(df_train[df_train['car']=='Y']['credit'], ax=axes[1],color='dodgerblue')\n",
    "\n",
    "# 부동산\n",
    "sns.distplot(df_train[df_train['reality']=='N']['credit'], ax=axes[2],color='lightsteelblue')\n",
    "sns.distplot(df_train[df_train['reality']=='Y']['credit'], ax=axes[2],color='dodgerblue')\n",
    "\n",
    "axes[0].set_title('gender')\n",
    "axes[1].set_title('car')\n",
    "axes[2].set_title('reality')"
   ]
  },
  {
   "cell_type": "code",
   "execution_count": null,
   "metadata": {
    "id": "JT3gI1qjlqC_"
   },
   "outputs": [],
   "source": [
    "pd.crosstab(df_train.credit,df_train.gender,margins=True).style.background_gradient(cmap='YlGnBu') # 성별"
   ]
  },
  {
   "cell_type": "code",
   "execution_count": null,
   "metadata": {
    "id": "VksuvRKXnEHf"
   },
   "outputs": [],
   "source": [
    "pd.crosstab(df_train.credit,df_train.car,margins=True).style.background_gradient(cmap='YlGnBu') # 차"
   ]
  },
  {
   "cell_type": "code",
   "execution_count": null,
   "metadata": {
    "id": "ha_acoYknE7a"
   },
   "outputs": [],
   "source": [
    "pd.crosstab(df_train.credit,df_train.reality,margins=True).style.background_gradient(cmap='YlGnBu') # 부동산"
   ]
  },
  {
   "cell_type": "markdown",
   "metadata": {
    "id": "HJsjAjAvkbSI"
   },
   "source": [
    "1) 성별 \n",
    "- 남성, 여성 모두 신용점수가 낮은 사람들이 높은 사람들보다 많은 것을 확인할 수 있다.\n",
    "- 남성보다는 여성이 더 많음\n",
    "\n",
    "2) 차량 소유 여부\n",
    "- 차의 소유 여부와 상관없이 신용등급이 낮은 사람들이 더 높은 것을 확인\n",
    "- 차가 없는 사람들이 더 많음\n",
    "\n",
    "3) 부동산 소유 여부\n",
    "- 부동산 소유 여부와 상관없이 신용등급이 낮은 사람들이 더 높은 것을 확인\n",
    "- 부동산을 소유한 사람들이 더 많음\n"
   ]
  },
  {
   "cell_type": "code",
   "execution_count": null,
   "metadata": {
    "id": "NgWN0bWdu71T"
   },
   "outputs": [],
   "source": [
    "# 핸드폰 소유 여부(가정용)\n",
    "set(list(df_train['FLAG_MOBIL'])) # 1만 나옴 가정용 핸드폰은 모두 존재..? 그러므로 이 변수는 제거해도 될것 같음"
   ]
  },
  {
   "cell_type": "code",
   "execution_count": null,
   "metadata": {
    "id": "QjIW2BXRtLC4"
   },
   "outputs": [],
   "source": [
    "fig, axes = plt.subplots(1, 3, figsize=(15, 6))\n",
    "\n",
    "# 업무용 전화소유 여부\n",
    "sns.distplot(df_train[df_train['work_phone']==0]['credit'], ax=axes[0],color='lightsteelblue')\n",
    "sns.distplot(df_train[df_train['work_phone']==1]['credit'], ax=axes[0],color='dodgerblue')\n",
    "\n",
    "# 전화소유 여부\n",
    "sns.distplot(df_train[df_train['phone']==0]['credit'], ax=axes[1],color='lightsteelblue')\n",
    "sns.distplot(df_train[df_train['phone']==1]['credit'], ax=axes[1],color='dodgerblue')\n",
    "\n",
    "# 이메일 소유 여부\n",
    "sns.distplot(df_train[df_train['email']==0]['credit'], ax=axes[2],color='lightsteelblue')\n",
    "sns.distplot(df_train[df_train['email']==1]['credit'], ax=axes[2],color='dodgerblue')\n",
    "\n",
    "axes[0].set_title('work_phone')\n",
    "axes[1].set_title('phone')\n",
    "axes[2].set_title('email')"
   ]
  },
  {
   "cell_type": "code",
   "execution_count": null,
   "metadata": {
    "id": "VqR1cP6ukaDr"
   },
   "outputs": [],
   "source": [
    "pd.crosstab(df_train.credit,df_train.work_phone,margins=True).style.background_gradient(cmap='YlGnBu') # 업무용 전화 "
   ]
  },
  {
   "cell_type": "code",
   "execution_count": null,
   "metadata": {
    "id": "pm4dSI2ckaGu"
   },
   "outputs": [],
   "source": [
    "pd.crosstab(df_train.credit,df_train.phone,margins=True).style.background_gradient(cmap='YlGnBu') # 전화 "
   ]
  },
  {
   "cell_type": "code",
   "execution_count": null,
   "metadata": {
    "id": "lyd-92REkaJm"
   },
   "outputs": [],
   "source": [
    "pd.crosstab(df_train.credit,df_train.email,margins=True).style.background_gradient(cmap='YlGnBu') # 이메일 "
   ]
  },
  {
   "cell_type": "markdown",
   "metadata": {
    "id": "mpjyW5AhuPJW"
   },
   "source": [
    "4) 가정용 핸드폰 \n",
    "- 데이터 값 1만 존재 → 가정용 핸드폰은 모두 존재..? \n",
    "그러므로 이 변수는 신용등급 변화에 유의미한 변화를 줄 것같지는 않음\n",
    "\n",
    "\n",
    "5) 업무용 전화 \n",
    "- 업무용 전화가 존재하든 안하든 모두 신용점수가 낮은 사람들이 높은 사람들보다 많은 것을 확인할 수 있다.\n",
    "- 업무용 전화가 없는 사람이 더 많음\n",
    "\n",
    "2) 전화 소유 여부\n",
    "- 전화의 소유 여부와 상관없이 신용등급이 낮은 사람들이 더 높은 것을 확인\n",
    "- 전화가 없는 사람들이 더 많음\n",
    "\n",
    "3) 이메일 소유 여부\n",
    "- 이메일의 소유 여부와 상관없이 신용등급이 낮은 사람들이 더 높은 것을 확인\n",
    "- 이메일을 소유하지 않은 사람들이 더 많음"
   ]
  },
  {
   "cell_type": "markdown",
   "metadata": {
    "id": "P3nckawqw8Pc"
   },
   "source": [
    "## **Muti Category**\n",
    "\n",
    "특이한 점은 발견할 수 없었음"
   ]
  },
  {
   "cell_type": "markdown",
   "metadata": {
    "id": "p6agLMUF6kxA"
   },
   "source": [
    "**house_type - 생활방식**"
   ]
  },
  {
   "cell_type": "code",
   "execution_count": null,
   "metadata": {
    "id": "NappEcUd3qab"
   },
   "outputs": [],
   "source": [
    "pd.crosstab(df_train.credit,df_train.house_type,margins=True).style.background_gradient(cmap='YlGnBu') "
   ]
  },
  {
   "cell_type": "code",
   "execution_count": null,
   "metadata": {
    "id": "ntLCqbmp4yiU"
   },
   "outputs": [],
   "source": [
    "plt.figure(figsize=(15,5))\n",
    "sns.countplot('house_type',hue='credit',data=df_train,palette='husl')"
   ]
  },
  {
   "cell_type": "markdown",
   "metadata": {
    "id": "ttJW-mnL5uNL"
   },
   "source": [
    "테이블과 그래프를 살펴보았을때, 평범한 아파트에서 사는 사람들이 대부분인 것을 확인 할 수 있다."
   ]
  },
  {
   "cell_type": "markdown",
   "metadata": {
    "id": "Y5oYq4967SkV"
   },
   "source": [
    "**occyp_type - 직업유형**"
   ]
  },
  {
   "cell_type": "code",
   "execution_count": null,
   "metadata": {
    "id": "7yJ8B6d-6ATZ"
   },
   "outputs": [],
   "source": [
    "pd.crosstab(df_train.credit,df_train.occyp_type,margins=True).style.background_gradient(cmap='YlGnBu') "
   ]
  },
  {
   "cell_type": "code",
   "execution_count": null,
   "metadata": {
    "id": "2b-OBzj5-zOc"
   },
   "outputs": [],
   "source": [
    "plt.figure(figsize=(20,5))\n",
    "sns.countplot('occyp_type',hue='credit',data=df_train,palette='husl')"
   ]
  },
  {
   "cell_type": "markdown",
   "metadata": {
    "id": "PYtAV5QFBzTp"
   },
   "source": [
    "HR staff, Low-skill Laborers, Realty agents는 신용등급이 1인사람들보다 등급이 0인 사람들이 더 많은 것을 확인 할 수 있다."
   ]
  },
  {
   "cell_type": "markdown",
   "metadata": {
    "id": "t2yHTWlICa5E"
   },
   "source": [
    "**income_type - 소득분류**"
   ]
  },
  {
   "cell_type": "code",
   "execution_count": null,
   "metadata": {
    "id": "Ir6RFcXr-zWc"
   },
   "outputs": [],
   "source": [
    "pd.crosstab(df_train.credit,df_train.income_type,margins=True).style.background_gradient(cmap='YlGnBu') "
   ]
  },
  {
   "cell_type": "code",
   "execution_count": null,
   "metadata": {
    "id": "BXtEJfaE-zag"
   },
   "outputs": [],
   "source": [
    "plt.figure(figsize=(15,5))\n",
    "sns.countplot('income_type',hue='credit',data=df_train,palette='husl')"
   ]
  },
  {
   "cell_type": "markdown",
   "metadata": {
    "id": "-rlwM_a8DJSb"
   },
   "source": [
    "데이터에서 working이 차지하는 비율이 높다는 것을 확인 할 수 있음\n",
    "\n",
    "소득분류에서 학생이 차지하는 부분은 매우 적은것을 확인 할 수 있다."
   ]
  },
  {
   "cell_type": "markdown",
   "metadata": {
    "id": "i2gon18LGPpe"
   },
   "source": [
    "**family_type - 결혼여부**"
   ]
  },
  {
   "cell_type": "code",
   "execution_count": null,
   "metadata": {
    "id": "4W5BYGjlGsc7"
   },
   "outputs": [],
   "source": [
    "pd.crosstab(df_train.credit,df_train.family_type,margins=True).style.background_gradient(cmap='YlGnBu') "
   ]
  },
  {
   "cell_type": "code",
   "execution_count": null,
   "metadata": {
    "id": "Rhj3dyLJGsfK"
   },
   "outputs": [],
   "source": [
    "plt.figure(figsize=(15,5))\n",
    "sns.countplot('family_type',hue='credit',data=df_train,palette='husl')"
   ]
  },
  {
   "cell_type": "markdown",
   "metadata": {
    "id": "8QKD0kAjG10N"
   },
   "source": [
    "결혼한 사람들의 비율이 가장 높다는 것을 확인 할 수 있다."
   ]
  },
  {
   "cell_type": "markdown",
   "metadata": {
    "id": "RI8TG-eHG9iE"
   },
   "source": [
    "## **discrete type**"
   ]
  },
  {
   "cell_type": "markdown",
   "metadata": {
    "id": "3zaYpsGSJ5_X"
   },
   "source": [
    "**family_size  - 가족 일원 수**"
   ]
  },
  {
   "cell_type": "code",
   "execution_count": null,
   "metadata": {
    "id": "F4V92DYhdMNK"
   },
   "outputs": [],
   "source": [
    "pd.crosstab(df_train.credit,df_train.family_size,margins=True).style.background_gradient(cmap='YlGnBu') "
   ]
  },
  {
   "cell_type": "code",
   "execution_count": null,
   "metadata": {
    "id": "rXqA52uHGsiY"
   },
   "outputs": [],
   "source": [
    "plt.figure(figsize=(15,5))\n",
    "sns.countplot('family_size',hue='credit',data=df_train,palette='husl')"
   ]
  },
  {
   "cell_type": "markdown",
   "metadata": {
    "id": "R7LN5eM0c44I"
   },
   "source": [
    "가족 일원수가 2명인 곳이 신용등급의 차가 매우 큰 것을 알 수 있다. \n",
    "ex) 1→2로 등급이 나빠지는 폭이 매우 커짐\n",
    "\n",
    "대가족인 데이터들이 간혹 보이지만, 신용등급이 좋지는 않음"
   ]
  },
  {
   "cell_type": "markdown",
   "metadata": {
    "id": "XbnQe4uAd48f"
   },
   "source": [
    "**child_num - 자녀 수**"
   ]
  },
  {
   "cell_type": "code",
   "execution_count": null,
   "metadata": {
    "id": "VwEP_d4AGslG"
   },
   "outputs": [],
   "source": [
    "pd.crosstab(df_train.credit,df_train.child_num,margins=True).style.background_gradient(cmap='YlGnBu') "
   ]
  },
  {
   "cell_type": "code",
   "execution_count": null,
   "metadata": {
    "id": "CCH4SDNueFy0"
   },
   "outputs": [],
   "source": [
    "plt.figure(figsize=(15,5))\n",
    "sns.countplot('child_num',hue='credit',data=df_train,palette='husl')"
   ]
  },
  {
   "cell_type": "markdown",
   "metadata": {
    "id": "AewbaXfWeNPe"
   },
   "source": [
    "자녀 수가 0인 사람들이 대부분인것을 확인 할 수 있다.\n",
    "신용등급이 안좋은 사람들이 극단적으로 많음\n",
    "\n",
    "가족 일원 수와 비슷한 분포를 지닌것을 확인 할 수 있다."
   ]
  },
  {
   "cell_type": "markdown",
   "metadata": {
    "id": "y_khZEyuekZj"
   },
   "source": [
    "## **ordinary type**"
   ]
  },
  {
   "cell_type": "markdown",
   "metadata": {
    "id": "D1koLcdKey5H"
   },
   "source": [
    "**edu_type - 교육수준**"
   ]
  },
  {
   "cell_type": "code",
   "execution_count": null,
   "metadata": {
    "id": "Nh7iBLite6S_"
   },
   "outputs": [],
   "source": [
    "pd.crosstab(df_train.credit,df_train.edu_type,margins=True).style.background_gradient(cmap='YlGnBu') "
   ]
  },
  {
   "cell_type": "code",
   "execution_count": null,
   "metadata": {
    "id": "Ga1_6TE8FcHA"
   },
   "outputs": [],
   "source": [
    "fig, axes = plt.subplots(1, 2, figsize=(20,6))\n",
    "df_train['edu_type'].value_counts().plot.pie(explode=[0,0.1,0.1,0.1,0.1],autopct='%1.1f%%',ax=axes[0], textprops={'fontsize': 14},shadow=True,colors=['lightcoral','orange','turquoise','cornflowerblue','mediumpurple'])\n",
    "axes[0].set_title('edu_type')\n",
    "axes[0].set_ylabel('edu_type')\n",
    "sns.countplot('edu_type',hue='credit',data=df_train,palette='husl')\n",
    "axes[1].set_title('edu_type')\n",
    "plt.show()"
   ]
  },
  {
   "cell_type": "markdown",
   "metadata": {
    "id": "WaXYRU_dH1gY"
   },
   "source": [
    "전체 데이터에서 Secondary가 가장 높은 비율을 차지하는 것을 확인 할 수 있다. "
   ]
  },
  {
   "cell_type": "markdown",
   "metadata": {
    "id": "kXzS87_YIEuO"
   },
   "source": [
    "## **continuous type**"
   ]
  },
  {
   "cell_type": "markdown",
   "metadata": {
    "id": "swjA-Mvd9H3t"
   },
   "source": [
    "**income_total - 수익**\n"
   ]
  },
  {
   "cell_type": "code",
   "execution_count": null,
   "metadata": {
    "id": "JpGrLARQIbYO"
   },
   "outputs": [],
   "source": [
    "plt.figure(figsize=(15,10))\n",
    "\n",
    "sns.boxplot(x = \"credit\", y = \"income_total\", data = df_train,palette = \"husl\")\n",
    "\n",
    "plt.show()"
   ]
  },
  {
   "cell_type": "markdown",
   "metadata": {
    "id": "gvQvSgD7AwHl"
   },
   "source": [
    "신용등급이 높을수록 수익의 격차가 적은 것을 확인 할 수 있다.\n",
    "\n",
    "박스플랏을 살펴보면 신용등급이 높을수록? 좋을 수록? 매우 미세한 정도로 수익이 높은 것을 확인 할 수 있다.\n",
    "\n",
    "신용등급이 낮은 사람들의 수익을 살펴보았을 때 빈부격차가 매우 심한것을 확인 할 수 있다. \n",
    "\n",
    "수익이 신용등급에 어느정도 조금?은 영향을 미치는 것으로 확인된다."
   ]
  },
  {
   "cell_type": "markdown",
   "metadata": {
    "id": "MhwxWt5hDZ9P"
   },
   "source": [
    "**DAYS_BIRTH - 출생일**"
   ]
  },
  {
   "cell_type": "code",
   "execution_count": null,
   "metadata": {
    "id": "IkawOR9I-IEB"
   },
   "outputs": [],
   "source": [
    "# 일 단위를 연 단위로 변환\n",
    "df_train.loc[:,'age']=abs(df_train['DAYS_BIRTH']/365).astype(int)"
   ]
  },
  {
   "cell_type": "code",
   "execution_count": null,
   "metadata": {
    "id": "ql5ZP0rVKTro"
   },
   "outputs": [],
   "source": [
    "fig, axes = plt.subplots(1, 4, figsize=(20, 6))\n",
    "\n",
    "sns.distplot(df_train[df_train['credit']==0]['age'], ax=axes[0],color='cornflowerblue')\n",
    "sns.distplot(df_train[df_train['credit']==1]['age'], ax=axes[1],color='cornflowerblue')\n",
    "sns.distplot(df_train[df_train['credit']==2]['age'], ax=axes[2],color='cornflowerblue')\n",
    "\n",
    "sns.regplot(y=df_train['age'], x=df_train['income_total'],ax=axes[3],fit_reg=True,color='lightcoral')\n",
    "axes[0].set_title('credit_0')\n",
    "axes[1].set_title('credit_1')\n",
    "axes[2].set_title('credit_2')"
   ]
  },
  {
   "cell_type": "markdown",
   "metadata": {
    "id": "V3qYF83OKS_3"
   },
   "source": [
    "신용등급이 좋은 사람들의 나이를 살펴보았을 때, 30-40대 초반에 높은 것을 확인 할 수 있다. 30-40에 보통 정기적으로 수익을 가지고 직업을 가지기 때문에 이러한 결과가 나온 것으로 예상\n",
    "\n",
    "신용등급이 보통인 사람들도 등급이 높은 사람들과 비슷한 결과가 나온것을 확인 할 수 있다.\n",
    "\n",
    "반면, 신용등급이 낮은 사람들은 나이대가 무분별한것을 확인 할 수 있다.\n",
    "\n",
    "\n",
    "수익을 살펴보았을때 특정나이대에 수익이 높은것은 아닌것 같다."
   ]
  },
  {
   "cell_type": "markdown",
   "metadata": {
    "id": "y7-zEA13OeLd"
   },
   "source": [
    "**DAYS_EMPLOYED - 업무시작일**"
   ]
  },
  {
   "cell_type": "code",
   "execution_count": null,
   "metadata": {
    "id": "A1zi0TPAV4sH"
   },
   "outputs": [],
   "source": [
    " df_train['DAYS_EMPLOYED'].hist()"
   ]
  },
  {
   "cell_type": "markdown",
   "metadata": {
    "id": "2-sWP59RWB4m"
   },
   "source": [
    "무직자가 생각보다 많은것을 확인 할 수 있다."
   ]
  },
  {
   "cell_type": "code",
   "execution_count": null,
   "metadata": {
    "id": "SZ96uWHzObfJ"
   },
   "outputs": [],
   "source": [
    "fig, axes = plt.subplots(1, 2, figsize=(20, 6))\n",
    "\n",
    "sns.distplot(df_train[df_train['DAYS_EMPLOYED']>=0]['credit'],ax=axes[0],color='dodgerblue')\n",
    "sns.distplot(df_train[df_train['DAYS_EMPLOYED']<0]['credit'],ax=axes[1],color='lightcoral')\n",
    "axes[0].set_title('no_working')\n",
    "axes[1].set_title('working')\n"
   ]
  },
  {
   "cell_type": "markdown",
   "metadata": {
    "id": "LVx_CQeTZI8o"
   },
   "source": [
    "무직자랑 직업이 있는 사람들의 분포 차이가 거의 없는 것을 확인 할 수 있다."
   ]
  },
  {
   "cell_type": "markdown",
   "metadata": {
    "id": "NJv3CvHybRkE"
   },
   "source": [
    "**begin_month - 신용카드 발급 월**"
   ]
  },
  {
   "cell_type": "code",
   "execution_count": null,
   "metadata": {
    "id": "ujw6YWVfWQqZ"
   },
   "outputs": [],
   "source": [
    "fig, axes = plt.subplots(1, 3, figsize=(20, 6))\n",
    "\n",
    "sns.distplot(abs(df_train[df_train['credit']==0]['begin_month']), ax=axes[0],color='cornflowerblue')\n",
    "sns.distplot(abs(df_train[df_train['credit']==1]['begin_month']), ax=axes[1],color='cornflowerblue')\n",
    "sns.distplot(abs(df_train[df_train['credit']==2]['begin_month']), ax=axes[2],color='cornflowerblue')\n",
    "\n",
    "axes[0].set_title('credit_0')\n",
    "axes[1].set_title('credit_1')\n",
    "axes[2].set_title('credit_2')"
   ]
  },
  {
   "cell_type": "code",
   "execution_count": null,
   "metadata": {
    "id": "RZPUHA78fhPs"
   },
   "outputs": [],
   "source": [
    "plt.figure(figsize=(15,10))\n",
    "\n",
    "sns.distplot(abs(df_train[df_train['credit']==0]['begin_month']),label='credit0')\n",
    "sns.distplot(abs(df_train[df_train['credit']==1]['begin_month']),label='credit1')\n",
    "sns.distplot(abs(df_train[df_train['credit']==2]['begin_month']),label='credit2')\n",
    "plt.legend()"
   ]
  },
  {
   "cell_type": "markdown",
   "metadata": {
    "id": "Cm76-EFzfNlv"
   },
   "source": [
    "신용등급이 낮을수록 신용카드를 더 많이 사용하는 경향이 있음 (발급월이 늘어날 수록 그만큼 신용카드를 오래 사용했다는 것을 추측)\n",
    "\n",
    "현재 우리나라에서는 신용카드를 많이 사용하면 신용등급이 올라가기때문에 신용카드를 많이 사용하는데, 이는 데이터 출처 나라에도 적용되기 때문에 등급이 낮은 사람들이 조금더 신용카드를 사용하지 않았을까 하는 생각"
   ]
  }
 ],
 "metadata": {
  "colab": {
   "name": "신용카드 사용자 연체 예측 AI.ipynb",
   "private_outputs": true,
   "provenance": []
  },
  "kernelspec": {
   "display_name": "Python 3",
   "language": "python",
   "name": "python3"
  },
  "language_info": {
   "codemirror_mode": {
    "name": "ipython",
    "version": 3
   },
   "file_extension": ".py",
   "mimetype": "text/x-python",
   "name": "python",
   "nbconvert_exporter": "python",
   "pygments_lexer": "ipython3",
   "version": "3.7.0"
  }
 },
 "nbformat": 4,
 "nbformat_minor": 1
}
